{
 "cells": [
  {
   "cell_type": "code",
   "execution_count": 1,
   "id": "a27cf581",
   "metadata": {},
   "outputs": [],
   "source": [
    "user = \" muhamamad\""
   ]
  },
  {
   "cell_type": "code",
   "execution_count": 2,
   "id": "49aff6f7",
   "metadata": {},
   "outputs": [
    {
     "data": {
      "text/plain": [
       "' muhamamad'"
      ]
     },
     "execution_count": 2,
     "metadata": {},
     "output_type": "execute_result"
    }
   ],
   "source": [
    "user"
   ]
  },
  {
   "cell_type": "code",
   "execution_count": 3,
   "id": "3ee8e4d5",
   "metadata": {},
   "outputs": [],
   "source": [
    "x = 10\n",
    "y = 8"
   ]
  },
  {
   "cell_type": "code",
   "execution_count": 4,
   "id": "acd142cb",
   "metadata": {},
   "outputs": [],
   "source": [
    "x= y"
   ]
  },
  {
   "cell_type": "code",
   "execution_count": 5,
   "id": "e06025d6",
   "metadata": {},
   "outputs": [
    {
     "data": {
      "text/plain": [
       "8"
      ]
     },
     "execution_count": 5,
     "metadata": {},
     "output_type": "execute_result"
    }
   ],
   "source": [
    "x"
   ]
  },
  {
   "cell_type": "code",
   "execution_count": 6,
   "id": "51e4b719",
   "metadata": {},
   "outputs": [
    {
     "data": {
      "text/plain": [
       "8"
      ]
     },
     "execution_count": 6,
     "metadata": {},
     "output_type": "execute_result"
    }
   ],
   "source": [
    "y"
   ]
  },
  {
   "cell_type": "code",
   "execution_count": 7,
   "id": "09b26d6f",
   "metadata": {},
   "outputs": [],
   "source": [
    "y = 9"
   ]
  },
  {
   "cell_type": "code",
   "execution_count": 8,
   "id": "e9e3a55b",
   "metadata": {},
   "outputs": [],
   "source": [
    "x = 8"
   ]
  },
  {
   "cell_type": "code",
   "execution_count": 9,
   "id": "7e4640ff",
   "metadata": {},
   "outputs": [],
   "source": [
    "y = x"
   ]
  },
  {
   "cell_type": "code",
   "execution_count": 10,
   "id": "74bba523",
   "metadata": {},
   "outputs": [
    {
     "data": {
      "text/plain": [
       "8"
      ]
     },
     "execution_count": 10,
     "metadata": {},
     "output_type": "execute_result"
    }
   ],
   "source": [
    "y"
   ]
  },
  {
   "cell_type": "code",
   "execution_count": 11,
   "id": "cfa54b76",
   "metadata": {},
   "outputs": [
    {
     "data": {
      "text/plain": [
       "8"
      ]
     },
     "execution_count": 11,
     "metadata": {},
     "output_type": "execute_result"
    }
   ],
   "source": [
    "x"
   ]
  },
  {
   "cell_type": "code",
   "execution_count": null,
   "id": "3bff2552",
   "metadata": {},
   "outputs": [],
   "source": []
  }
 ],
 "metadata": {
  "kernelspec": {
   "display_name": "Python 3",
   "language": "python",
   "name": "python3"
  },
  "language_info": {
   "codemirror_mode": {
    "name": "ipython",
    "version": 3
   },
   "file_extension": ".py",
   "mimetype": "text/x-python",
   "name": "python",
   "nbconvert_exporter": "python",
   "pygments_lexer": "ipython3",
   "version": "3.8.8"
  }
 },
 "nbformat": 4,
 "nbformat_minor": 5
}
