{
 "cells": [
  {
   "cell_type": "code",
   "execution_count": 1,
   "id": "194ad57d",
   "metadata": {},
   "outputs": [],
   "source": [
    "school_list = []"
   ]
  },
  {
   "cell_type": "code",
   "execution_count": 5,
   "id": "26777803",
   "metadata": {},
   "outputs": [],
   "source": [
    "school_list = [\"sameer\", \"sam\", \"Tom\", \"Vini\", 1, 3, 2.3, 4.5]"
   ]
  },
  {
   "cell_type": "code",
   "execution_count": 6,
   "id": "17226583",
   "metadata": {},
   "outputs": [
    {
     "data": {
      "text/plain": [
       "['sameer', 'sam', 'Tom', 'Vini', 1, 3, 2.3, 4.5]"
      ]
     },
     "execution_count": 6,
     "metadata": {},
     "output_type": "execute_result"
    }
   ],
   "source": [
    "school_list"
   ]
  },
  {
   "cell_type": "code",
   "execution_count": 7,
   "id": "87e0e2b8",
   "metadata": {},
   "outputs": [],
   "source": [
    "# index"
   ]
  },
  {
   "cell_type": "code",
   "execution_count": 8,
   "id": "bc09b00d",
   "metadata": {},
   "outputs": [
    {
     "data": {
      "text/plain": [
       "'Tom'"
      ]
     },
     "execution_count": 8,
     "metadata": {},
     "output_type": "execute_result"
    }
   ],
   "source": [
    "school_list[2]"
   ]
  },
  {
   "cell_type": "code",
   "execution_count": 9,
   "id": "8dbf05df",
   "metadata": {},
   "outputs": [
    {
     "data": {
      "text/plain": [
       "'sam'"
      ]
     },
     "execution_count": 9,
     "metadata": {},
     "output_type": "execute_result"
    }
   ],
   "source": [
    "school_list[1]"
   ]
  },
  {
   "cell_type": "code",
   "execution_count": 10,
   "id": "b587e339",
   "metadata": {},
   "outputs": [
    {
     "data": {
      "text/plain": [
       "4.5"
      ]
     },
     "execution_count": 10,
     "metadata": {},
     "output_type": "execute_result"
    }
   ],
   "source": [
    "school_list[7]"
   ]
  },
  {
   "cell_type": "code",
   "execution_count": 11,
   "id": "1ffc62fc",
   "metadata": {},
   "outputs": [],
   "source": [
    "# slicing"
   ]
  },
  {
   "cell_type": "code",
   "execution_count": 14,
   "id": "c70afa66",
   "metadata": {},
   "outputs": [],
   "source": [
    "school_list = [\"sameer\", \"sam\", \"Tom\", \"Vini\", 1, 3, 2.3, 4.5]"
   ]
  },
  {
   "cell_type": "code",
   "execution_count": 15,
   "id": "615ba32e",
   "metadata": {},
   "outputs": [
    {
     "data": {
      "text/plain": [
       "['sameer', 'sam', 'Tom', 'Vini']"
      ]
     },
     "execution_count": 15,
     "metadata": {},
     "output_type": "execute_result"
    }
   ],
   "source": [
    "school_list[0:4]"
   ]
  },
  {
   "cell_type": "code",
   "execution_count": null,
   "id": "8109be99",
   "metadata": {},
   "outputs": [],
   "source": []
  }
 ],
 "metadata": {
  "kernelspec": {
   "display_name": "Python 3",
   "language": "python",
   "name": "python3"
  },
  "language_info": {
   "codemirror_mode": {
    "name": "ipython",
    "version": 3
   },
   "file_extension": ".py",
   "mimetype": "text/x-python",
   "name": "python",
   "nbconvert_exporter": "python",
   "pygments_lexer": "ipython3",
   "version": "3.8.8"
  }
 },
 "nbformat": 4,
 "nbformat_minor": 5
}
