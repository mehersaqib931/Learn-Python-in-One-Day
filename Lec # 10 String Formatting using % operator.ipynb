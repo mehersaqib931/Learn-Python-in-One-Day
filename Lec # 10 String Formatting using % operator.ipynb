{
 "cells": [
  {
   "cell_type": "code",
   "execution_count": 12,
   "id": "0ba0ecce",
   "metadata": {},
   "outputs": [],
   "source": [
    "message = ' i invest a 123 dollars in the apple company'"
   ]
  },
  {
   "cell_type": "code",
   "execution_count": 13,
   "id": "74ebdbdf",
   "metadata": {},
   "outputs": [
    {
     "data": {
      "text/plain": [
       "' i invest a 123 dollars in the apple company'"
      ]
     },
     "execution_count": 13,
     "metadata": {},
     "output_type": "execute_result"
    }
   ],
   "source": [
    "message"
   ]
  },
  {
   "cell_type": "code",
   "execution_count": 14,
   "id": "f6f46ec9",
   "metadata": {},
   "outputs": [],
   "source": [
    "amount = 125\n",
    "company = \"android\"\n",
    "\n",
    "message = \"I invest a %d dollars in the %s company\" %(amount, company)\n"
   ]
  },
  {
   "cell_type": "code",
   "execution_count": 15,
   "id": "13670808",
   "metadata": {},
   "outputs": [
    {
     "data": {
      "text/plain": [
       "'I invest a 125 dollars in the android company'"
      ]
     },
     "execution_count": 15,
     "metadata": {},
     "output_type": "execute_result"
    }
   ],
   "source": [
    "message"
   ]
  },
  {
   "cell_type": "code",
   "execution_count": 22,
   "id": "45decb28",
   "metadata": {},
   "outputs": [],
   "source": [
    "amount = 125.09\n",
    "company = \"android\"\n",
    "\n",
    "message = \"I invest a %s dollars in the %s company\" %(amount, company)"
   ]
  },
  {
   "cell_type": "markdown",
   "id": "b343189b",
   "metadata": {},
   "source": [
    " message"
   ]
  },
  {
   "cell_type": "code",
   "execution_count": 23,
   "id": "8a132da6",
   "metadata": {},
   "outputs": [
    {
     "data": {
      "text/plain": [
       "'I invest a 125.09 dollars in the android company'"
      ]
     },
     "execution_count": 23,
     "metadata": {},
     "output_type": "execute_result"
    }
   ],
   "source": [
    "message"
   ]
  },
  {
   "cell_type": "code",
   "execution_count": null,
   "id": "869f2b26",
   "metadata": {},
   "outputs": [],
   "source": []
  }
 ],
 "metadata": {
  "kernelspec": {
   "display_name": "Python 3",
   "language": "python",
   "name": "python3"
  },
  "language_info": {
   "codemirror_mode": {
    "name": "ipython",
    "version": 3
   },
   "file_extension": ".py",
   "mimetype": "text/x-python",
   "name": "python",
   "nbconvert_exporter": "python",
   "pygments_lexer": "ipython3",
   "version": "3.8.8"
  }
 },
 "nbformat": 4,
 "nbformat_minor": 5
}
