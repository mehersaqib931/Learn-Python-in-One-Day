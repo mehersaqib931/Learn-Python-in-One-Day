{
 "cells": [
  {
   "cell_type": "code",
   "execution_count": 1,
   "id": "1dd7de64",
   "metadata": {},
   "outputs": [],
   "source": [
    "# function = block of code which perform certain task when ever it called."
   ]
  },
  {
   "cell_type": "code",
   "execution_count": 14,
   "id": "843c1a9c",
   "metadata": {},
   "outputs": [],
   "source": [
    "name = \"sammer\""
   ]
  },
  {
   "cell_type": "code",
   "execution_count": 15,
   "id": "c06f9604",
   "metadata": {},
   "outputs": [
    {
     "data": {
      "text/plain": [
       "'SAMMER'"
      ]
     },
     "execution_count": 15,
     "metadata": {},
     "output_type": "execute_result"
    }
   ],
   "source": [
    "name.upper()"
   ]
  },
  {
   "cell_type": "code",
   "execution_count": 16,
   "id": "caf64e87",
   "metadata": {},
   "outputs": [
    {
     "data": {
      "text/plain": [
       "'sammer'"
      ]
     },
     "execution_count": 16,
     "metadata": {},
     "output_type": "execute_result"
    }
   ],
   "source": [
    "name.lower()"
   ]
  },
  {
   "cell_type": "code",
   "execution_count": null,
   "id": "c52516ce",
   "metadata": {},
   "outputs": [],
   "source": []
  }
 ],
 "metadata": {
  "kernelspec": {
   "display_name": "Python 3",
   "language": "python",
   "name": "python3"
  },
  "language_info": {
   "codemirror_mode": {
    "name": "ipython",
    "version": 3
   },
   "file_extension": ".py",
   "mimetype": "text/x-python",
   "name": "python",
   "nbconvert_exporter": "python",
   "pygments_lexer": "ipython3",
   "version": "3.8.8"
  }
 },
 "nbformat": 4,
 "nbformat_minor": 5
}
