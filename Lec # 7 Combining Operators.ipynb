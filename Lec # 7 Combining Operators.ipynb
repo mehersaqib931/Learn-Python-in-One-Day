{
 "cells": [
  {
   "cell_type": "code",
   "execution_count": 1,
   "id": "d0463918",
   "metadata": {},
   "outputs": [],
   "source": [
    "x = 7"
   ]
  },
  {
   "cell_type": "code",
   "execution_count": 2,
   "id": "c798b4ed",
   "metadata": {},
   "outputs": [],
   "source": [
    " x = x +2"
   ]
  },
  {
   "cell_type": "code",
   "execution_count": 3,
   "id": "c75eb506",
   "metadata": {},
   "outputs": [
    {
     "data": {
      "text/plain": [
       "9"
      ]
     },
     "execution_count": 3,
     "metadata": {},
     "output_type": "execute_result"
    }
   ],
   "source": [
    "x"
   ]
  },
  {
   "cell_type": "code",
   "execution_count": 4,
   "id": "b949d61b",
   "metadata": {},
   "outputs": [],
   "source": [
    "x+=2"
   ]
  },
  {
   "cell_type": "code",
   "execution_count": 5,
   "id": "d55e6643",
   "metadata": {},
   "outputs": [
    {
     "data": {
      "text/plain": [
       "11"
      ]
     },
     "execution_count": 5,
     "metadata": {},
     "output_type": "execute_result"
    }
   ],
   "source": [
    "x"
   ]
  },
  {
   "cell_type": "code",
   "execution_count": 6,
   "id": "0f6de13a",
   "metadata": {},
   "outputs": [],
   "source": [
    "x-=2"
   ]
  },
  {
   "cell_type": "code",
   "execution_count": 7,
   "id": "10822555",
   "metadata": {},
   "outputs": [
    {
     "data": {
      "text/plain": [
       "9"
      ]
     },
     "execution_count": 7,
     "metadata": {},
     "output_type": "execute_result"
    }
   ],
   "source": [
    "x"
   ]
  },
  {
   "cell_type": "code",
   "execution_count": 8,
   "id": "b213179a",
   "metadata": {},
   "outputs": [],
   "source": [
    "x*=2"
   ]
  },
  {
   "cell_type": "code",
   "execution_count": 9,
   "id": "88891585",
   "metadata": {},
   "outputs": [
    {
     "data": {
      "text/plain": [
       "18"
      ]
     },
     "execution_count": 9,
     "metadata": {},
     "output_type": "execute_result"
    }
   ],
   "source": [
    "x"
   ]
  },
  {
   "cell_type": "code",
   "execution_count": 10,
   "id": "ec65edf1",
   "metadata": {},
   "outputs": [],
   "source": [
    "x/=2"
   ]
  },
  {
   "cell_type": "code",
   "execution_count": 11,
   "id": "5833a20b",
   "metadata": {},
   "outputs": [
    {
     "data": {
      "text/plain": [
       "9.0"
      ]
     },
     "execution_count": 11,
     "metadata": {},
     "output_type": "execute_result"
    }
   ],
   "source": [
    "x"
   ]
  },
  {
   "cell_type": "code",
   "execution_count": 12,
   "id": "aed38930",
   "metadata": {},
   "outputs": [],
   "source": [
    "x%=2"
   ]
  },
  {
   "cell_type": "code",
   "execution_count": 13,
   "id": "0cc4210d",
   "metadata": {},
   "outputs": [
    {
     "data": {
      "text/plain": [
       "1.0"
      ]
     },
     "execution_count": 13,
     "metadata": {},
     "output_type": "execute_result"
    }
   ],
   "source": [
    "x"
   ]
  },
  {
   "cell_type": "code",
   "execution_count": 14,
   "id": "846709d1",
   "metadata": {},
   "outputs": [],
   "source": [
    "x**=2"
   ]
  },
  {
   "cell_type": "code",
   "execution_count": 15,
   "id": "284cc0bb",
   "metadata": {},
   "outputs": [
    {
     "data": {
      "text/plain": [
       "1.0"
      ]
     },
     "execution_count": 15,
     "metadata": {},
     "output_type": "execute_result"
    }
   ],
   "source": [
    "x"
   ]
  },
  {
   "cell_type": "code",
   "execution_count": 16,
   "id": "5c511003",
   "metadata": {},
   "outputs": [],
   "source": [
    "x//=2"
   ]
  },
  {
   "cell_type": "code",
   "execution_count": 17,
   "id": "085834d4",
   "metadata": {},
   "outputs": [
    {
     "data": {
      "text/plain": [
       "0.0"
      ]
     },
     "execution_count": 17,
     "metadata": {},
     "output_type": "execute_result"
    }
   ],
   "source": [
    "x"
   ]
  },
  {
   "cell_type": "code",
   "execution_count": null,
   "id": "d32b3dfc",
   "metadata": {},
   "outputs": [],
   "source": []
  }
 ],
 "metadata": {
  "kernelspec": {
   "display_name": "Python 3",
   "language": "python",
   "name": "python3"
  },
  "language_info": {
   "codemirror_mode": {
    "name": "ipython",
    "version": 3
   },
   "file_extension": ".py",
   "mimetype": "text/x-python",
   "name": "python",
   "nbconvert_exporter": "python",
   "pygments_lexer": "ipython3",
   "version": "3.8.8"
  }
 },
 "nbformat": 4,
 "nbformat_minor": 5
}
