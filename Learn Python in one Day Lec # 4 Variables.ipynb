{
 "cells": [
  {
   "cell_type": "code",
   "execution_count": null,
   "id": "cc7c5818",
   "metadata": {},
   "outputs": [],
   "source": [
    "# what are varaibles..."
   ]
  },
  {
   "cell_type": "code",
   "execution_count": 4,
   "id": "181018ae",
   "metadata": {},
   "outputs": [],
   "source": [
    "name = \"sameer\""
   ]
  },
  {
   "cell_type": "code",
   "execution_count": 5,
   "id": "b328af24",
   "metadata": {},
   "outputs": [
    {
     "data": {
      "text/plain": [
       "'sameer'"
      ]
     },
     "execution_count": 5,
     "metadata": {},
     "output_type": "execute_result"
    }
   ],
   "source": [
    "name"
   ]
  },
  {
   "cell_type": "code",
   "execution_count": 7,
   "id": "5baa3517",
   "metadata": {},
   "outputs": [],
   "source": [
    "# python is a case sensitive language.\n",
    "#name != Name"
   ]
  },
  {
   "cell_type": "code",
   "execution_count": 8,
   "id": "764f57fd",
   "metadata": {},
   "outputs": [],
   "source": [
    "name, age = \"sameer\", 30"
   ]
  },
  {
   "cell_type": "code",
   "execution_count": 9,
   "id": "4e8cd4da",
   "metadata": {},
   "outputs": [
    {
     "data": {
      "text/plain": [
       "'sameer'"
      ]
     },
     "execution_count": 9,
     "metadata": {},
     "output_type": "execute_result"
    }
   ],
   "source": [
    "name"
   ]
  },
  {
   "cell_type": "code",
   "execution_count": 10,
   "id": "41de529b",
   "metadata": {},
   "outputs": [
    {
     "data": {
      "text/plain": [
       "30"
      ]
     },
     "execution_count": 10,
     "metadata": {},
     "output_type": "execute_result"
    }
   ],
   "source": [
    "age"
   ]
  },
  {
   "cell_type": "code",
   "execution_count": 11,
   "id": "80b26846",
   "metadata": {},
   "outputs": [],
   "source": [
    "name, age, channel = \"sameer\", 30, \"the computation GuY\""
   ]
  },
  {
   "cell_type": "code",
   "execution_count": 12,
   "id": "6a6a76a0",
   "metadata": {},
   "outputs": [
    {
     "data": {
      "text/plain": [
       "'the computation GuY'"
      ]
     },
     "execution_count": 12,
     "metadata": {},
     "output_type": "execute_result"
    }
   ],
   "source": [
    "channel"
   ]
  },
  {
   "cell_type": "code",
   "execution_count": 13,
   "id": "871a3059",
   "metadata": {},
   "outputs": [],
   "source": [
    "# variable naming Rule"
   ]
  },
  {
   "cell_type": "code",
   "execution_count": 14,
   "id": "498e7a4d",
   "metadata": {},
   "outputs": [],
   "source": [
    "# 1)= the python variables can only contain letter (a-z A-Z), numbers and \n",
    "# underscore _\n",
    "\n",
    "# 2) =However you can not start variable names with the number but you can \n",
    "#     use in between the letters\n",
    "\n",
    "#3) you can start varible name with python reserved words. but you can \n",
    "#     use in between the letters\n",
    "\n",
    "#) name is not same as Name as python is case sensitive language."
   ]
  },
  {
   "cell_type": "code",
   "execution_count": 15,
   "id": "a72f42d1",
   "metadata": {},
   "outputs": [],
   "source": [
    "name = \"sam\""
   ]
  },
  {
   "cell_type": "code",
   "execution_count": 17,
   "id": "c4e3d499",
   "metadata": {},
   "outputs": [],
   "source": [
    "name1 = \"well\""
   ]
  },
  {
   "cell_type": "code",
   "execution_count": 18,
   "id": "1bf146d8",
   "metadata": {},
   "outputs": [],
   "source": [
    "na1me1 = \"well\""
   ]
  },
  {
   "cell_type": "code",
   "execution_count": 21,
   "id": "5e683339",
   "metadata": {},
   "outputs": [],
   "source": [
    "aprintb = \"sameer\""
   ]
  },
  {
   "cell_type": "code",
   "execution_count": 22,
   "id": "c6fad47f",
   "metadata": {},
   "outputs": [
    {
     "data": {
      "text/plain": [
       "'sameer'"
      ]
     },
     "execution_count": 22,
     "metadata": {},
     "output_type": "execute_result"
    }
   ],
   "source": [
    "aprintb"
   ]
  },
  {
   "cell_type": "code",
   "execution_count": 23,
   "id": "d9b6dbc9",
   "metadata": {},
   "outputs": [],
   "source": [
    "# camel case\n",
    "# _ underscore"
   ]
  },
  {
   "cell_type": "code",
   "execution_count": 24,
   "id": "6192c924",
   "metadata": {},
   "outputs": [],
   "source": [
    "thevariableis = \"heelo\""
   ]
  },
  {
   "cell_type": "code",
   "execution_count": 25,
   "id": "bd551a72",
   "metadata": {},
   "outputs": [],
   "source": [
    "theVaraibelIs = \"Hello\""
   ]
  },
  {
   "cell_type": "code",
   "execution_count": 26,
   "id": "223f1a02",
   "metadata": {},
   "outputs": [],
   "source": [
    "the_Varaibel_Is = \"Hello\""
   ]
  },
  {
   "cell_type": "code",
   "execution_count": null,
   "id": "856d4238",
   "metadata": {},
   "outputs": [],
   "source": []
  }
 ],
 "metadata": {
  "kernelspec": {
   "display_name": "Python 3",
   "language": "python",
   "name": "python3"
  },
  "language_info": {
   "codemirror_mode": {
    "name": "ipython",
    "version": 3
   },
   "file_extension": ".py",
   "mimetype": "text/x-python",
   "name": "python",
   "nbconvert_exporter": "python",
   "pygments_lexer": "ipython3",
   "version": "3.8.8"
  }
 },
 "nbformat": 4,
 "nbformat_minor": 5
}
