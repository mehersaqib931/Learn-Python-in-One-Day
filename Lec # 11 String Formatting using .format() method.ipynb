{
 "cells": [
  {
   "cell_type": "code",
   "execution_count": 11,
   "id": "eb8cb209",
   "metadata": {},
   "outputs": [],
   "source": [
    "amount = 125\n",
    "company = \"android\"\n",
    "message = \"I invest a {}  dollars in the {} company\".format(amount, company)"
   ]
  },
  {
   "cell_type": "code",
   "execution_count": 12,
   "id": "1cb420f3",
   "metadata": {},
   "outputs": [
    {
     "data": {
      "text/plain": [
       "'I invest a 125  dollars in the android company'"
      ]
     },
     "execution_count": 12,
     "metadata": {},
     "output_type": "execute_result"
    }
   ],
   "source": [
    "message"
   ]
  },
  {
   "cell_type": "code",
   "execution_count": 13,
   "id": "9d2bc048",
   "metadata": {},
   "outputs": [],
   "source": [
    "amount = 125\n",
    "company = \"android\"\n",
    "message = \"I invest a {1:s}  dollars in the {0:d} company\".format(amount, company)"
   ]
  },
  {
   "cell_type": "code",
   "execution_count": 14,
   "id": "0f500954",
   "metadata": {},
   "outputs": [
    {
     "data": {
      "text/plain": [
       "'I invest a android  dollars in the 125 company'"
      ]
     },
     "execution_count": 14,
     "metadata": {},
     "output_type": "execute_result"
    }
   ],
   "source": [
    "message"
   ]
  },
  {
   "cell_type": "code",
   "execution_count": null,
   "id": "35a1dba5",
   "metadata": {},
   "outputs": [],
   "source": []
  }
 ],
 "metadata": {
  "kernelspec": {
   "display_name": "Python 3",
   "language": "python",
   "name": "python3"
  },
  "language_info": {
   "codemirror_mode": {
    "name": "ipython",
    "version": 3
   },
   "file_extension": ".py",
   "mimetype": "text/x-python",
   "name": "python",
   "nbconvert_exporter": "python",
   "pygments_lexer": "ipython3",
   "version": "3.8.8"
  }
 },
 "nbformat": 4,
 "nbformat_minor": 5
}
