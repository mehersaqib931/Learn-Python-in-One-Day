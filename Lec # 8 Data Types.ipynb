{
 "cells": [
  {
   "cell_type": "code",
   "execution_count": 1,
   "id": "dfcad618",
   "metadata": {},
   "outputs": [],
   "source": [
    "# integer\n",
    "# Float\n",
    "# String"
   ]
  },
  {
   "cell_type": "code",
   "execution_count": 2,
   "id": "d1148389",
   "metadata": {},
   "outputs": [],
   "source": [
    "# integer = whole number without any decimaal part"
   ]
  },
  {
   "cell_type": "code",
   "execution_count": 3,
   "id": "7498cfcc",
   "metadata": {},
   "outputs": [],
   "source": [
    "a =78"
   ]
  },
  {
   "cell_type": "code",
   "execution_count": 4,
   "id": "a6a49947",
   "metadata": {},
   "outputs": [],
   "source": [
    "b = -90"
   ]
  },
  {
   "cell_type": "code",
   "execution_count": 5,
   "id": "3c96153d",
   "metadata": {},
   "outputs": [],
   "source": [
    "# Float = any number with decimnal part"
   ]
  },
  {
   "cell_type": "code",
   "execution_count": 6,
   "id": "9b324d50",
   "metadata": {},
   "outputs": [],
   "source": [
    "a =78.0"
   ]
  },
  {
   "cell_type": "code",
   "execution_count": 7,
   "id": "26ca1d65",
   "metadata": {},
   "outputs": [],
   "source": [
    "b = -90.0"
   ]
  },
  {
   "cell_type": "code",
   "execution_count": 8,
   "id": "6db0fdda",
   "metadata": {},
   "outputs": [],
   "source": [
    "# strig = sequence of characters is called."
   ]
  },
  {
   "cell_type": "code",
   "execution_count": 9,
   "id": "14694d57",
   "metadata": {},
   "outputs": [],
   "source": [
    "name = \"sameer\""
   ]
  },
  {
   "cell_type": "code",
   "execution_count": null,
   "id": "86c803e7",
   "metadata": {},
   "outputs": [],
   "source": [
    "name = 'hello'"
   ]
  }
 ],
 "metadata": {
  "kernelspec": {
   "display_name": "Python 3",
   "language": "python",
   "name": "python3"
  },
  "language_info": {
   "codemirror_mode": {
    "name": "ipython",
    "version": 3
   },
   "file_extension": ".py",
   "mimetype": "text/x-python",
   "name": "python",
   "nbconvert_exporter": "python",
   "pygments_lexer": "ipython3",
   "version": "3.8.8"
  }
 },
 "nbformat": 4,
 "nbformat_minor": 5
}
