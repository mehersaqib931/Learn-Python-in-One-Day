{
 "cells": [
  {
   "cell_type": "code",
   "execution_count": 1,
   "id": "0fee40d5",
   "metadata": {},
   "outputs": [],
   "source": [
    "school_list = [\"sameer\", \"sam\", \"Tom\", \"Vini\"]"
   ]
  },
  {
   "cell_type": "code",
   "execution_count": 2,
   "id": "06071cde",
   "metadata": {},
   "outputs": [],
   "source": [
    "school_list.append(\"Jim\")"
   ]
  },
  {
   "cell_type": "code",
   "execution_count": 3,
   "id": "8df3aa78",
   "metadata": {},
   "outputs": [
    {
     "data": {
      "text/plain": [
       "['sameer', 'sam', 'Tom', 'Vini', 'Jim']"
      ]
     },
     "execution_count": 3,
     "metadata": {},
     "output_type": "execute_result"
    }
   ],
   "source": [
    "school_list"
   ]
  },
  {
   "cell_type": "code",
   "execution_count": 4,
   "id": "ea3321f3",
   "metadata": {},
   "outputs": [],
   "source": [
    "school_list.append(\"Akash\")"
   ]
  },
  {
   "cell_type": "code",
   "execution_count": 5,
   "id": "8b230694",
   "metadata": {},
   "outputs": [
    {
     "data": {
      "text/plain": [
       "['sameer', 'sam', 'Tom', 'Vini', 'Jim', 'Akash']"
      ]
     },
     "execution_count": 5,
     "metadata": {},
     "output_type": "execute_result"
    }
   ],
   "source": [
    "school_list"
   ]
  },
  {
   "cell_type": "code",
   "execution_count": 6,
   "id": "983c073f",
   "metadata": {},
   "outputs": [],
   "source": [
    "school_list.append(5)"
   ]
  },
  {
   "cell_type": "code",
   "execution_count": 7,
   "id": "95acd504",
   "metadata": {},
   "outputs": [
    {
     "data": {
      "text/plain": [
       "['sameer', 'sam', 'Tom', 'Vini', 'Jim', 'Akash', 5]"
      ]
     },
     "execution_count": 7,
     "metadata": {},
     "output_type": "execute_result"
    }
   ],
   "source": [
    "school_list"
   ]
  },
  {
   "cell_type": "code",
   "execution_count": 8,
   "id": "8c200b64",
   "metadata": {},
   "outputs": [],
   "source": [
    "school_list.remove(5)"
   ]
  },
  {
   "cell_type": "code",
   "execution_count": 9,
   "id": "fac4d156",
   "metadata": {},
   "outputs": [
    {
     "data": {
      "text/plain": [
       "['sameer', 'sam', 'Tom', 'Vini', 'Jim', 'Akash']"
      ]
     },
     "execution_count": 9,
     "metadata": {},
     "output_type": "execute_result"
    }
   ],
   "source": [
    "school_list"
   ]
  },
  {
   "cell_type": "code",
   "execution_count": 10,
   "id": "a4fcfc84",
   "metadata": {},
   "outputs": [],
   "source": [
    "school_list.remove(\"Akash\")"
   ]
  },
  {
   "cell_type": "code",
   "execution_count": 11,
   "id": "6bae79ae",
   "metadata": {},
   "outputs": [
    {
     "data": {
      "text/plain": [
       "['sameer', 'sam', 'Tom', 'Vini', 'Jim']"
      ]
     },
     "execution_count": 11,
     "metadata": {},
     "output_type": "execute_result"
    }
   ],
   "source": [
    "school_list"
   ]
  },
  {
   "cell_type": "code",
   "execution_count": 12,
   "id": "ac94c55c",
   "metadata": {},
   "outputs": [],
   "source": [
    "del school_list[2]"
   ]
  },
  {
   "cell_type": "code",
   "execution_count": 13,
   "id": "7094eb53",
   "metadata": {},
   "outputs": [
    {
     "data": {
      "text/plain": [
       "['sameer', 'sam', 'Vini', 'Jim']"
      ]
     },
     "execution_count": 13,
     "metadata": {},
     "output_type": "execute_result"
    }
   ],
   "source": [
    "school_list"
   ]
  },
  {
   "cell_type": "code",
   "execution_count": null,
   "id": "a3dbe07a",
   "metadata": {},
   "outputs": [],
   "source": []
  }
 ],
 "metadata": {
  "kernelspec": {
   "display_name": "Python 3",
   "language": "python",
   "name": "python3"
  },
  "language_info": {
   "codemirror_mode": {
    "name": "ipython",
    "version": 3
   },
   "file_extension": ".py",
   "mimetype": "text/x-python",
   "name": "python",
   "nbconvert_exporter": "python",
   "pygments_lexer": "ipython3",
   "version": "3.8.8"
  }
 },
 "nbformat": 4,
 "nbformat_minor": 5
}
